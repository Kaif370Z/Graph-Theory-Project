{
 "cells": [
  {
   "attachments": {},
   "cell_type": "markdown",
   "id": "084a158d",
   "metadata": {},
   "source": [
    "# Graph isomorphism\n"
   ]
  },
  {
   "attachments": {},
   "cell_type": "markdown",
   "id": "0f8386d3",
   "metadata": {},
   "source": [
    "A graph can exist in different forms having the same number of vertices, edges. Such graphs are called isomorphic graphs.[[1]](https://www.javatpoint.com/graph-isomorphism-in-discrete-mathematics) From what I could understand from this. Two graphs are able to be equal if they have the exact same dimensions, but two graphs can look the same even if they aren’t, and that is the idea behind graph isomorphisms."
   ]
  },
  {
   "attachments": {},
   "cell_type": "markdown",
   "id": "0d944627",
   "metadata": {},
   "source": [
    "![alt text](https://static.javatpoint.com/tutorial/dms/images/graph-isomorphism-in-discrete-mathematics.png)"
   ]
  },
  {
   "attachments": {},
   "cell_type": "markdown",
   "id": "bf35c532",
   "metadata": {},
   "source": [
    "Isomorphic Graphs are two graphs G1 and G2 are said to be isomorphic if their number of components (vertices and edges) are the same or their edge connectivity is retained. [[1]](https://www.javatpoint.com/graph-isomorphism-in-discrete-mathematics)\n",
    "In other words, the two graphs differ only by the edges and vertices but are structurally the same.\n"
   ]
  },
  {
   "attachments": {},
   "cell_type": "markdown",
   "id": "9e11f114",
   "metadata": {},
   "source": [
    "# Conditions for graph isomorphism\n",
    "1. There will be an equal number of vertices in the given graphs.\n",
    "2. There will be an equal number of edges in the given graphs.\n",
    "3. There will be an equal amount of degree sequence in the given graphs.\n",
    "4. If the first graph is forming a cycle of length k with the help of vertices {v1, v2, v3, …. vk}, then another graph must also form the same cycle of the same length k with the help of vertices {v1, v2, v3, …. vk}.\n",
    "\n",
    "if all the conditions are being met the graphs are the same but just in a different form."
   ]
  },
  {
   "attachments": {},
   "cell_type": "markdown",
   "id": "dc10d463",
   "metadata": {},
   "source": [
    "# Examples of Graph Isomorphism\n",
    "# Example 1:\n",
    "\n",
    "In the following example, we will show if the following graphs are isomorphism.\n",
    "\n",
    "![alt text](https://static.javatpoint.com/tutorial/dms/images/graph-isomorphism-in-discrete-mathematics2.png)\n",
    "\n",
    "We will first check for the conditions;\n",
    "\n",
    "Condition 1:\n",
    "* in graph 1, there is a total 4 number of vertices, i.e G1 = 4.\n",
    "* in graph 2, there is a total 4 number of vertices, i.e G2 = 4.\n",
    "so graph 1 and 2 both have the same number of vertices. "
   ]
  },
  {
   "attachments": {
    "image.png": {
     "image/png": "[encoded data removed]"
    }
   },
   "cell_type": "markdown",
   "id": "1d7787bc",
   "metadata": {},
   "source": [
    "# Example 2:\n",
    "\n",
    "![image.png](attachment:image.png)\n",
    "\n",
    "Condition 1: \n",
    "\n",
    "* in graph 1, there is a total number of 4 vertices, G1 = 4.\n",
    "* in graph 2, there is a total number of 4 vertices, G2 = 4.\n",
    "* in graph 3, there is a total number of 4 vertices, G3 = 4.\n",
    "\n",
    "Condition 2:\n",
    "\n",
    "* in graph 1, there is a total number of 5 edges, G1 = 5.\n",
    "* in graph 2, there is a total number of 5 edges, G2 = 5.\n",
    "* in graph 3, there is a total number of 4 edges, G3 = 4.\n",
    "\n",
    "hence, There are a equal number of edges in both graphs G1 and G2 so these meet condition 2. G1, G2 and G3 have the same amount of vertices but since G3 does not have the same edges these graphs are not isomorphic.\n",
    "\n",
    "The code below can also show if 2 Graphs are isomorphic or not."
   ]
  },
  {
   "cell_type": "code",
   "execution_count": null,
   "id": "910ee23d",
   "metadata": {},
   "outputs": [],
   "source": [
    "import networkx as nx\n",
    "\n",
    "# Define two example graphs\n",
    "graph1 = nx.Graph([(1, 2), (2, 3), (3, 1)])\n",
    "graph2 = nx.Graph([(1, 2), (2, 3), (3, 4), (4, 1)])\n",
    "\n",
    "# Check if the two graphs are isomorphic\n",
    "isomorphic = nx.is_isomorphic(graph1, graph2)\n",
    "\n",
    "# Print the result\n",
    "if isomorphic:\n",
    "    print(\"The two graphs are isomorphic.\")\n",
    "else:\n",
    "    print(\"The two graphs are not isomorphic.\")"
   ]
  },
  {
   "attachments": {},
   "cell_type": "markdown",
   "id": "2197bcb2",
   "metadata": {},
   "source": [
    "# The Isomorhpic Problem\n",
    "\n",
    "The isomorhpic problem is a unsolved problem in comouter science; The graph isomorphism problem is the computational problem of determining wheter two finite graphs are isomorphic.\n",
    "\n",
    "The following python code has the function “brute_force_test_graph_isomorphism”, which accepts as an arguments 2 adjacency matrix and returns True or False whether graphs are isomorphic or not.[[2]]"
   ]
  },
  {
   "cell_type": "code",
   "execution_count": null,
   "id": "cc129628",
   "metadata": {},
   "outputs": [],
   "source": [
    "import itertools\n",
    "import numpy as np\n",
    "\n",
    "\n",
    "def get_graph_order(adj_matrix):\n",
    "    if len(adj_matrix) != len(adj_matrix[0]):\n",
    "        return -1\n",
    "    else:\n",
    "        return len(adj_matrix)\n",
    "\n",
    "\n",
    "def get_degree_sequence(adj_matrix):\n",
    "    degree_sequence = []\n",
    "    for vertex in range(len(adj_matrix)):\n",
    "        degree_sequence.append(sum(adj_matrix[vertex]))\n",
    "    degree_sequence.sort(reverse=True)\n",
    "    return degree_sequence\n",
    "\n",
    "\n",
    "def get_all_vertex_permutations(adj_matrix):\n",
    "    if get_graph_order(adj_matrix) > 8:\n",
    "        print(\"This function is too inefficient for graph order > 8\")\n",
    "        return -1\n",
    "    all_adj_matrix = []\n",
    "    idx = list(range(len(adj_matrix)))\n",
    "    possible_idx_combinations = [\n",
    "        list(i) for i in itertools.permutations(idx, len(idx))\n",
    "    ]\n",
    "    for idx_comb in possible_idx_combinations:\n",
    "        a = adj_matrix\n",
    "        a = a[idx_comb]\n",
    "        a = np.transpose(np.transpose(a)[idx_comb])\n",
    "        all_adj_matrix.append({\n",
    "            \"perm_vertex\":\n",
    "            idx_comb,\n",
    "            \"adj_matrix\":\n",
    "            a\n",
    "        })\n",
    "\n",
    "    return all_adj_matrix\n",
    "\n",
    "\n",
    "def brute_force_test_graph_isomporphism(adj_1, adj_2):\n",
    "    degree_sequence_1 = get_degree_sequence(adj_1)\n",
    "    degree_sequence_2 = get_degree_sequence(adj_2)\n",
    "    if get_graph_order(adj_1) != get_graph_order(adj_1):\n",
    "        return False\n",
    "    elif np.array_equal(degree_sequence_1, degree_sequence_2) == False:\n",
    "        return False\n",
    "    else:\n",
    "        for adj_matrix in list(\n",
    "                map(lambda matrix: matrix[\"adj_matrix\"],\n",
    "                    get_all_vertex_permutations(adj_2))):\n",
    "            if np.array_equal(adj_1, adj_matrix) == True:\n",
    "                return True\n",
    "    return False"
   ]
  },
  {
   "cell_type": "markdown",
   "id": "ae81e65d",
   "metadata": {},
   "source": [
    "# References"
   ]
  },
  {
   "attachments": {},
   "cell_type": "markdown",
   "id": "8ae7b602",
   "metadata": {},
   "source": [
    "First few pieces of information i gathered was from here. [[1]](https://www.javatpoint.com/graph-isomorphism-in-discrete-mathematics) https://www.javatpoint.com/graph-isomorphism-in-discrete-mathematics\n",
    "\n",
    "Brute force code for Python was gahtered here. [[2]](https://tonicanada.medium.com/brute-force-code-for-isomorphisms-1241ef180570) https://tonicanada.medium.com/brute-force-code-for-isomorphisms-1241ef180570"
   ]
  }
 ],
 "metadata": {
  "kernelspec": {
   "display_name": "Python 3 (ipykernel)",
   "language": "python",
   "name": "python3"
  },
  "language_info": {
   "codemirror_mode": {
    "name": "ipython",
    "version": 3
   },
   "file_extension": ".py",
   "mimetype": "text/x-python",
   "name": "python",
   "nbconvert_exporter": "python",
   "pygments_lexer": "ipython3",
   "version": "3.9.13"
  }
 },
 "nbformat": 4,
 "nbformat_minor": 5
}
