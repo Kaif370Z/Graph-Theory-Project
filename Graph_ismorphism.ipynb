{
 "cells": [
  {
   "attachments": {},
   "cell_type": "markdown",
   "id": "084a158d",
   "metadata": {},
   "source": [
    "# Graph isomorphism\n"
   ]
  },
  {
   "attachments": {},
   "cell_type": "markdown",
   "id": "0f8386d3",
   "metadata": {},
   "source": [
    "A graph can exist in different forms having the same number of vertices, edges. Such graphs are called isomorphic graphs.[[1]](https://www.javatpoint.com/graph-isomorphism-in-discrete-mathematics) From what I could understand from this. Two graphs are able to be equal if they have the exact same dimensions, but two graphs can look the same even if they aren’t, and that is the idea behind graph isomorphisms."
   ]
  },
  {
   "attachments": {},
   "cell_type": "markdown",
   "id": "0d944627",
   "metadata": {},
   "source": [
    "![alt text](https://static.javatpoint.com/tutorial/dms/images/graph-isomorphism-in-discrete-mathematics.png)"
   ]
  },
  {
   "attachments": {},
   "cell_type": "markdown",
   "id": "bf35c532",
   "metadata": {},
   "source": [
    "Isomorphic Graphs are two graphs G1 and G2 are said to be isomorphic if their number of components (vertices and edges) are the same or their edge connectivity is retained. [[1]](https://www.javatpoint.com/graph-isomorphism-in-discrete-mathematics)\n",
    "In other words, the two graphs differ only by the edges and vertices but are structurally the same.\n"
   ]
  },
  {
   "attachments": {},
   "cell_type": "markdown",
   "id": "9e11f114",
   "metadata": {},
   "source": [
    "# Conditions for graph isomorphism\n",
    "1. There will be an equal number of vertices in the given graphs.\n",
    "2. There will be an equal number of edges in the given graphs.\n",
    "3. There will be an equal amount of degree sequence in the given graphs.\n",
    "4. If the first graph is forming a cycle of length k with the help of vertices {v1, v2, v3, …. vk}, then another graph must also form the same cycle of the same length k with the help of vertices {v1, v2, v3, …. vk}.\n",
    "\n",
    "if all the conditions are being met the graphs are the same but just in a different form."
   ]
  },
  {
   "attachments": {},
   "cell_type": "markdown",
   "id": "dc10d463",
   "metadata": {},
   "source": [
    "# Examples of Graph Isomorphism\n",
    "# Example 1:\n",
    "\n",
    "In this example, we will show if the following graphs are isomorphism.\n",
    "\n",
    "![alt text](https://static.javatpoint.com/tutorial/dms/images/graph-isomorphism-in-discrete-mathematics2.png)\n",
    "\n",
    "We will first check for the conditions;\n",
    "\n",
    "Condition 1:\n",
    "* in graph 1, there is a total 4 number of vertices, i.e G1 = 4.\n",
    "* in graph 2, there is a total 4 number of vertices, i.e G2 = 4.\n",
    "so graph 1 and 2 both have the same number of vertices. "
   ]
  },
  {
   "cell_type": "markdown",
   "id": "ae81e65d",
   "metadata": {},
   "source": [
    "# References"
   ]
  },
  {
   "attachments": {},
   "cell_type": "markdown",
   "id": "8ae7b602",
   "metadata": {},
   "source": [
    "First few pieces of information i gathered was from here. [[1]](https://www.javatpoint.com/graph-isomorphism-in-discrete-mathematics) https://www.javatpoint.com/graph-isomorphism-in-discrete-mathematics"
   ]
  }
 ],
 "metadata": {
  "kernelspec": {
   "display_name": "Python 3 (ipykernel)",
   "language": "python",
   "name": "python3"
  },
  "language_info": {
   "codemirror_mode": {
    "name": "ipython",
    "version": 3
   },
   "file_extension": ".py",
   "mimetype": "text/x-python",
   "name": "python",
   "nbconvert_exporter": "python",
   "pygments_lexer": "ipython3",
   "version": "3.9.13"
  }
 },
 "nbformat": 4,
 "nbformat_minor": 5
}
