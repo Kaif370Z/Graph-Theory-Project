{
 "cells": [
  {
   "cell_type": "markdown",
   "id": "084a158d",
   "metadata": {},
   "source": [
    "# Graph Morphism\n"
   ]
  },
  {
   "attachments": {},
   "cell_type": "markdown",
   "id": "0f8386d3",
   "metadata": {},
   "source": [
    "Graph isomorphism is an equivalence relation on graphs and as such it partitions the class of all graphs into equivalence classes. A set of graphs isomorphic to each other is called an isomorphism class of graphs."
   ]
  }
 ],
 "metadata": {
  "kernelspec": {
   "display_name": "Python 3 (ipykernel)",
   "language": "python",
   "name": "python3"
  },
  "language_info": {
   "codemirror_mode": {
    "name": "ipython",
    "version": 3
   },
   "file_extension": ".py",
   "mimetype": "text/x-python",
   "name": "python",
   "nbconvert_exporter": "python",
   "pygments_lexer": "ipython3",
   "version": "3.9.13"
  }
 },
 "nbformat": 4,
 "nbformat_minor": 5
}
